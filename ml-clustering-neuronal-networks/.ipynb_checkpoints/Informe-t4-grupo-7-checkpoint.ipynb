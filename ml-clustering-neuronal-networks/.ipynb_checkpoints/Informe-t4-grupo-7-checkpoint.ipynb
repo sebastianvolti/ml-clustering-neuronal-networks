{
 "cells": [
  {
   "cell_type": "markdown",
   "metadata": {
    "colab_type": "text",
    "id": "57qTLxksUMZk"
   },
   "source": [
    "# Entrega 4 \n",
    "\n",
    "### Grupo 7:\n",
    "     - S. Agustina Sierra Lima C.I. 4.647.235-6\n",
    "     - V. Sebastian Volti Diano C.I 5.175.914-7\n",
    "     - C. Alejandro Clara C.I. 4.772.294-4"
   ]
  },
  {
   "cell_type": "markdown",
   "metadata": {
    "colab_type": "text",
    "id": "7PaXyYfUUMZr"
   },
   "source": [
    "## 1. Objetivo\n",
    "___"
   ]
  },
  {
   "cell_type": "markdown",
   "metadata": {
    "colab_type": "text",
    "id": "JQSrPa2ogO0v"
   },
   "source": [
    "Esta tarea se subdivide en 2 partes.\n",
    "\n",
    "Los objetivos de la primera parte son:\n",
    "- Realizar el análisis de un conjunto de datos consistente en la autoidentificación ideológica de un grupo de personas.\n",
    "- Aplicar técnicas de clustering (K-means).\n",
    "\n",
    "Los de la segunda:\n",
    "- Estudiar un método de generación de texto utilizando Redes Neuronales y su aplicación en PyTorch.\n",
    "- Replicar este método y analizar los resultados obtenidos.\n"
   ]
  },
  {
   "cell_type": "markdown",
   "metadata": {
    "colab_type": "text",
    "id": "SZaxbuHUUMZx"
   },
   "source": [
    "## 2. Parte 1\n",
    "___"
   ]
  },
  {
   "cell_type": "markdown",
   "metadata": {
    "colab_type": "text",
    "id": "Qt_i0kIDgI8U"
   },
   "source": [
    "### 2.1. Análisis del conjunto de datos\n",
    "___"
   ]
  },
  {
   "cell_type": "markdown",
   "metadata": {
    "colab_type": "text",
    "id": "dIWX70fYgjdR"
   },
   "source": [
    "La carpeta del dataset incluye dos versiones del mismo (ambas con el mismo tamaño). Una \"común\" con los valores en formato de string, y la otra con los valores de los atributos mapeados a valores numéricos.\n",
    "\n",
    "Observando el dataset en formato de string, se pueden encontrar 5916 instancias en el dataset. Las clases posibles son:\n",
    "1. Extremely Liberal\n",
    "2. Liberal\n",
    "3. Slightly Liberal\n",
    "4. Moderate\n",
    "5. Slightly Conservative\n",
    "6. Conservative\n",
    "7. Extremely Conservative\n",
    "\n",
    "por lo que se trata de un problema de clasificación multiclase.\n",
    "\n",
    "Si se ignora el atributo case-id, que simplemente identifica a cada columna, hay 6 atributos en total, donde 5 de ellos son de entradas y 1 es de salida (ideology).\n",
    "\n",
    "El dataset viene parcialmente etiquetado, la mayoría de las instancias tienen una clase definida. Hay 614 instancias sin valor definido en ideology (10.38%).\n"
   ]
  },
  {
   "cell_type": "markdown",
   "metadata": {
    "colab_type": "text",
    "id": "8I4rrB1nhIq8"
   },
   "source": [
    "#### 2.1.1. Valores posibles\n",
    "___"
   ]
  },
  {
   "cell_type": "markdown",
   "metadata": {
    "colab_type": "text",
    "id": "J-VOs_Z-hUY-"
   },
   "source": [
    "En la versión común del dataset se pueden encontrar tanto valores numéricos como valores categóricos:\n",
    "- **race**: Toma valores categóricos. White, Black, Hispanic, Other.\n",
    "- **religion:** Toma valores categóricos. Not Religious, Religious.\n",
    "- **income:** Toma valores numéricos discretos entre 1 y 28.\n",
    "- **education:** Toma valores categóricos con un orden definido. Less than H.S, High School, Some College, Bachelor's, Graduate Degree.\n",
    "- **age-group:** Toma valores categóricos con un orden definido. 17-20, 21-24, 25-29, 30-34, 35-39, 40-44, 45-49, 50-54, 55-59, 60-64, 65-69, 70-74, 75+."
   ]
  },
  {
   "cell_type": "markdown",
   "metadata": {
    "colab_type": "text",
    "id": "Ft3oArwSh7eO"
   },
   "source": [
    "#### 2.1.2. Valores faltantes de atributos\n",
    "___"
   ]
  },
  {
   "cell_type": "markdown",
   "metadata": {
    "colab_type": "text",
    "id": "4brwfCtHh_bo"
   },
   "source": [
    "Todos los atributos de entrada tienen valores faltantes:\n",
    "- **race:** 29 valores faltantes.\n",
    "- **religion:** 32 valores faltantes.\n",
    "- **income:** 199 valores faltantes.\n",
    "- **education:** 50 valores faltantes.\n",
    "- **age-group:** 61 valores faltantes.\n",
    "\n",
    "En total hay 985 valores de atributos faltantes y 871 (14.72% del total) instancias con algún valor faltante en sus atributos.\n",
    "\n",
    "En el dataset numérico, los valores faltantes tiene una clasificación interna (i.e. se usa -9 para representar que el valor falta porque el encuestado no quiso contestar, -1 cuando no aplica, etc).\n",
    "\n",
    "De cualquier manera, para cada atributo con valores faltantes se decide llenar dichos valores con el valor más común del resto de las instancias.\n",
    "\n",
    "\n",
    "\n"
   ]
  },
  {
   "cell_type": "markdown",
   "metadata": {
    "colab_type": "text",
    "id": "CzZyAlxXnjsD"
   },
   "source": [
    "#### 2.1.3. Distribución de los atributos\n",
    "---\n",
    "\n"
   ]
  },
  {
   "cell_type": "markdown",
   "metadata": {
    "colab_type": "text",
    "id": "YHg2Hk-9Y5to"
   },
   "source": [
    "A partir de este punto realizamos un análisis de los datos unificando ciertas clasificaciones:\n",
    "Extremely liberal, liberal y slightly liberal forman una clasificación, así como slightly conservative, conservative y extremely conservative forman otra.\n",
    "\n",
    "Con estas modificaciones, obtenemos la siguiente distribución en el dataset:\n",
    "\n",
    "- 41,30%  Clasificacion 1 (Liberal).     \n",
    "- 33,77% Clasificacion 2 (Moderate).    \n",
    "- 24,90%  Clasificacion 3 (Conservative)  \n",
    "\n",
    "Podemos observar que el conjunto de datos no se encuentra estratificado.\n",
    "\n",
    "Luego observando la siguiente tabla que contiene la media y la varianza para cada atributo, podemos tener una visión rápida de qué tan alejados están, en promedio, las instancias de su media.\n",
    "\n",
    "<table style=\"display: inline-block; margin-left: 48px;\">  \n",
    "  <tr>\n",
    "    <th></th>\n",
    "    <th><b>Race</b></th>\n",
    "    <th><b>Religion</b></th>\n",
    "    <th><b>Income</b></th>\n",
    "    <th><b>Education</b></th>\n",
    "    <th><b>Age-group</b></th>\n",
    "    <th><b>Ideology</b></th>\n",
    "  </tr>    \n",
    "  <tr>\n",
    "    <td><b>Mean</b></td>\n",
    "    <td><b>1.699290</b></td>\n",
    "    <td><b>1.300879</b></td>\n",
    "    <td><b>12.934246</b></td>\n",
    "    <td><b>2.974307</b></td>\n",
    "    <td><b>7.449797</b></td>\n",
    "    <td><b>2.088573</b></td>\n",
    "  </tr>\n",
    "  <tr>\n",
    "    <td><b>Variance</b></td>\n",
    "    <td><b>0.925112</b></td>\n",
    "    <td><b>0.210386</b></td>\n",
    "    <td><b>70.184518</b></td>\n",
    "    <td><b>1.332560</b></td>\n",
    "    <td><b>10.993422</b></td>\n",
    "    <td><b>0.579136</b></td>\n",
    "  </tr>\n",
    "  <tr>\n",
    "</table>    \n",
    "\n",
    "Si un conjunto tiene varianza 0, todos sus elementos son iguales.\n",
    "Podemos decir que para los atributos race, religion y para la clasificacion ideology, las instancias en general se encuentran cerca de la media.\n",
    "\n",
    "Adjuntamos debajo histogramas correspondientes la distribución de las instancias para cada atributo y valor, incluída la ideología agrupada en las 3 clases mencionadas.\n",
    "\n",
    "<img src=\"imagenes/Histogramas.png\" style=\"width: 80%; display: inline-block;\">\n",
    "\n",
    "Podemos ver que se cumple que los atributos income, education y age-group se alejan un poco de la media, como muestra la varianza.\n",
    "\n",
    "\n",
    "\n",
    "\n",
    "\n"
   ]
  },
  {
   "cell_type": "markdown",
   "metadata": {
    "colab_type": "text",
    "id": "VeEjrAet9Bsp"
   },
   "source": [
    "Luego nos gustaría saber para qué atributos tenemos valores outliers y para eso realizamos diagramas de cajas y bigotes, las cuales arrojaron que solo para los atributos race, education y religion encontramos instancias con valores outliers.\n",
    "\n",
    "<img src=\"imagenes/box-race.png\" style=\"width: 80%; display: inline-block;\">\n",
    "\n",
    "<img src=\"imagenes/box-education.png\" style=\"width: 80%; display: inline-block;\">\n",
    "\n",
    "<img src=\"imagenes/box-religion.png\" style=\"width: 80%; display: inline-block;\">\n"
   ]
  },
  {
   "cell_type": "markdown",
   "metadata": {
    "colab_type": "text",
    "id": "xKaP7ysDlwGQ"
   },
   "source": [
    "Por último para poder realizar alguna inferencia general sobre los atributos y las categorías utilizamos una función de la librería Seaborn llamada kdeplot(), que representa una aproximación continua a la distribución de densidad basada en los valores de los datos. Es muy similar a los histogramas pero visualmente se pueden superponer gráficas y podemos ver para un atributo en particular bajo qué categorias se presenta una mayor densidad.\n",
    "\n",
    "<img src=\"imagenes/religion.png\" style=\"width: 80%; display: inline-block;\">\n",
    "\n",
    "De esta gráfica podemos inferir que para el valor de religion igual a uno (la religión es importante en su vida) hay una mayor densidad (área debajo de la curva) de instancias clasificadas con ideología conservadora. O sea que es más probable que, dada una instancia en la cual su ideología sea conservadora es más probable que la religión sea parte importante en su vida.\n",
    "Algo similar sucede con el valor de religion 2 (la religión no es importante en su vida) y la clasificación Liberal.\n",
    "\n",
    "<img src=\"imagenes/race.png\" style=\"width: 80%; display: inline-block;\">\n",
    "\n",
    "\n",
    "Del gráfico de la raza podemos decir que para el valor \"White non-Hispanic\" las instancias son mayormente de clasificación Conservative.\n",
    "No así con el resto de los valores donde se puede ver que la clasificación Moderado es la que se da más.\n",
    "\n",
    "<img src=\"imagenes/education.png\" style=\"width: 80%; display: inline-block;\">\n",
    "\n",
    "Para la educación podemos inferir que para los valores \"Less than high school credential\", \"High school credential\" y \"Some post-high-school, no bachelor's degree\" se encuentran más instancias de clasificación Moderado, pero para \"Bachelor's degree\" predomina la ideología Conservadora y para \"Graduate degree\" la ideologia Liberal.\n",
    "Por lo cual podriamos decir que dada una instancia con clasificación moderada es altamente probable que su grado de educación sea de media a baja.\n",
    "              "
   ]
  },
  {
   "cell_type": "markdown",
   "metadata": {
    "colab_type": "text",
    "id": "7Zt10x3OokiT"
   },
   "source": [
    "#### 2.1.4. Pruebas con reducción de dimensionalidad\n",
    "___"
   ]
  },
  {
   "cell_type": "markdown",
   "metadata": {
    "colab_type": "text",
    "id": "86bQ2JOvov-U"
   },
   "source": [
    "Con la intención de poder visualizar la distribución de las distintas ideologías presentadas en las instancias anotadas del dataset, perdiendo la menor cantidad de información posible, se hizo uso de varias implementaciones de reducción de dimensionalidad.\n",
    "\n",
    "Todas las gráficas presentadas aquí, son utilizando un 80% del dataset (y todas son instancias con clasificación definida en el dataset). Además, se formaron las agrupaciones ideológicas mencionadas anteriormente. Es decir, se considera un primer grupo que incluye a los Extremely Liberal, Liberal, y Slightly Liberal; un segundo grupo que incluye a los Moderate; y un tercero que incluye a los tres grupos Conservative.\n",
    "\n",
    "En ninguna de las aproximaciones los resultados fueron satisfactorios como para encontrar clusters en función de las ideologías.\n",
    "\n",
    "NOTA: Para una mejor visualización de las agrupaciones (en 3 dimensiones), se recomienda ejecutar el comando\n",
    "\n",
    "_python3 dimensionality_reduction.py -s 3 -v 3d_\n",
    "\n",
    "cuya ejecución requiere la instalación del paquete _prince_."
   ]
  },
  {
   "cell_type": "markdown",
   "metadata": {
    "colab_type": "text",
    "id": "TmXFnEFrosWX"
   },
   "source": [
    "##### 2.1.4.1. PCA (Principal Component Analysis)"
   ]
  },
  {
   "cell_type": "markdown",
   "metadata": {
    "colab_type": "text",
    "id": "rABcNkRNCVIi"
   },
   "source": [
    "Si bien PCA está pensado para ser utilizado en datasets con atributos continuos, igualmente se realizaron las pruebas:\n",
    "\n",
    "<img src=\"imagenes/pca.png\" style=\"width: 90%; display: inline-block;\">"
   ]
  },
  {
   "cell_type": "markdown",
   "metadata": {
    "colab_type": "text",
    "id": "pOgiZw1fwAqb"
   },
   "source": [
    "La distribución obtenida parece no representar nada destacable, al menos desde el punto de vista de las agrupaciones obtenidas. Puede tener algún tipo de influencia el hecho de que PCA está pensado principalmente para atributos continuos."
   ]
  },
  {
   "cell_type": "markdown",
   "metadata": {
    "colab_type": "text",
    "id": "VntuHZPBxeLM"
   },
   "source": [
    "##### 2.1.4.2. MCA (Multiple Component Analysis)"
   ]
  },
  {
   "cell_type": "markdown",
   "metadata": {
    "colab_type": "text",
    "id": "-vvAvQjuxivC"
   },
   "source": [
    "MCA es una especie de contraparte de PCA, pensado para datos categóricos. Para este método se intentaron dos enfoques."
   ]
  },
  {
   "cell_type": "markdown",
   "metadata": {
    "colab_type": "text",
    "id": "M3E8akYwCZzw"
   },
   "source": [
    "En primer lugar se intentó con MCA utilizando directamente el dataset con valores de tipo string:\n",
    "\n",
    "<img src=\"imagenes/mca_1.png\" style=\"width: 90%; display: inline-block;\">"
   ]
  },
  {
   "cell_type": "markdown",
   "metadata": {
    "colab_type": "text",
    "id": "QbrB4h5eCbnR"
   },
   "source": [
    "En segundo lugar se intentó realizando una transformación del dataset a One Hot Encoding:\n",
    "<img src=\"imagenes/mca_2.png\" style=\"width: 90%; display: inline-block;\">"
   ]
  },
  {
   "cell_type": "markdown",
   "metadata": {
    "colab_type": "text",
    "id": "xd1NkSmfzn2-"
   },
   "source": [
    "##### 2.1.4.3. FAMD (Factor Analysis of Mixed Data)"
   ]
  },
  {
   "cell_type": "markdown",
   "metadata": {
    "colab_type": "text",
    "id": "exeLU6CUzwEa"
   },
   "source": [
    "FAMD está pensado para conjuntos que contienen tanto variables de tipo numérico como categóricos.\n",
    "\n",
    "Se intentó aplicarlo de dos formas.\n"
   ]
  },
  {
   "cell_type": "markdown",
   "metadata": {
    "colab_type": "text",
    "id": "GGAQxMq4Cf1-"
   },
   "source": [
    "En primer lugar, de forma directa sobre el dataset con valores de tipo string:\n",
    "\n",
    "<img src=\"imagenes/famd_1.png\" style=\"width: 90%; display: inline-block;\">"
   ]
  },
  {
   "cell_type": "markdown",
   "metadata": {
    "colab_type": "text",
    "id": "WM2SHbPY1Faf"
   },
   "source": [
    "Si bien se pueden observar cuatro clusters bien definidos, las ideologías están completamente mezcladas en todas partes (se puede observar haciendo zoom sobre las gráficas)."
   ]
  },
  {
   "cell_type": "markdown",
   "metadata": {
    "colab_type": "text",
    "id": "IdJLUNVBCiBL"
   },
   "source": [
    "En segundo lugar, dado que el dataset contiene variables categóricas pero con un orden predefinido en algunas de ellas, estas fueron pasadas a valores numéricos siguiendo dicho orden:\n",
    "\n",
    "<img src=\"imagenes/famd_2.png\" style=\"width: 90%; display: inline-block;\">"
   ]
  },
  {
   "cell_type": "markdown",
   "metadata": {
    "colab_type": "text",
    "id": "ywFRQYre1oFf"
   },
   "source": [
    "En este caso, las instancias de los clusters están mucho más \"apretados\" entre sí. Si se hace zoom se pueden ver que lo que aparentan ser puntos, son agrupaciones grandes de instancias. Claramente tampoco se puede hacer una distinción por ideologías."
   ]
  },
  {
   "cell_type": "markdown",
   "metadata": {
    "colab_type": "text",
    "id": "Ixue4l-1nx_H"
   },
   "source": [
    "### 2.2. Aplicación de K-Means\n",
    "___"
   ]
  },
  {
   "cell_type": "markdown",
   "metadata": {
    "colab_type": "text",
    "id": "DX0aBUJ8TS0_"
   },
   "source": [
    "En esta sección trataremos la aplicación del algoritmo K-Means sobre el conjunto de datos. \n",
    "El objetivo es agrupar las instancias en 3 clusters distintos, y tratar de identificar si los mismos están vinculados a alguna agrupación ideológica.\n",
    "\n",
    "Para la implementación utilizamos el algoritmo kmeans de scikit-learn. \n",
    "El mismo recibe determinados parámetros que infieren en el comportamiento del algoritmo, y detallaremos a continuación en que nos basamos para elegir cada uno de ellos.\n",
    "Se deben inicializar los clusters con valores adecuados (habitualmente pequeños) para tender a la convergencia de los mismos de forma más veloz. \n",
    "En nuestro caso, probamos por un lado inicializar los mismos de manera aleatoria, y por otro con valores \"inteligentes\" con la esperanza de conseguir mejores resultados, o al menos encontrar diferencias con los clusters inicializados de manera aleatoria; pero no obtuvimos diferencia alguna, los clusters convergen a los mismos valores, y en un tiempo despreciable.\n",
    "\n",
    "Es una buena práctica relizar el algoritmo repetidas veces con distintas inicializaciones de los clusters, y quedarse con los mejores resultados en términos de \"incercia\", siendo los mismos la minimización de la suma de las distancias al cuadrado de cada instancia del cluster a su centroide.\n",
    "Probamos con distintas cantidades de inicializaciones, y en todas obtuvimos resultados practicamente igual, lo único que diferenciaba una pasada de kmeans de otra, era el tiempo de finalización (logicamente cuantas más inicializaciones distintas contemplemos, más demorará nuestro algoritmo general para encontrar los clusters).\n",
    "También definimos un máximo de iteraciones por cada pasada del algoritmo.\n",
    "\n",
    "Por último, probamos con distintas alternativas que scikit provee para el cómputo de las distancias (de una instancia en particular con su centroide), nuevamente sin constatar cambios en los valores finales de los cendroides.\n",
    "\n",
    "\n",
    "\n"
   ]
  },
  {
   "cell_type": "markdown",
   "metadata": {
    "colab_type": "text",
    "id": "Scc-F_nxcNgy"
   },
   "source": [
    "Para lidiar con los resultados obtenidos luego de realizar la clusterización, mostarmos previamente la distribución 3D de las instancias, en base a distintas variables (un ejemplo podría ser age-group, education, income) e identificando a qué ideología corresponden, diferenciando las mismas solamente en 3 grupos como mencionamos anteriormente.\n",
    "Utilizamos los colores rojo, verde y lila para diferenciar a las distintas ideologías (las distintas tonalidades se deben a la superposición de instancias).\n",
    "\n",
    "<img src=\"imagenes/Agrupacion.png\" style=\"width: 90%; display: inline-block;\">"
   ]
  },
  {
   "cell_type": "markdown",
   "metadata": {
    "colab_type": "text",
    "id": "QVbo8HMRt84I"
   },
   "source": [
    "También analizamos la distribución de las instancias con los atributos estandarizados como se muestra en el siguiente grafico\n",
    "<img src=\"imagenes/Estandarizados.png\" style=\"width: 90%; display: inline-block;\">"
   ]
  },
  {
   "cell_type": "markdown",
   "metadata": {
    "colab_type": "text",
    "id": "gXH5eLLLNGz9"
   },
   "source": [
    "Luego, diferenciamos las instancias en base al cluster al que pertenecen, y así intentar vincular determinado cluster con alguna agrupación en particular. \n",
    "Vale aclarar que cada uno de los 3 centroides está representado en forma de estrella, y cada color representa un cluster distinto, sin diferencias entre ideologías.\n",
    "\n",
    "<img src=\"imagenes/Clusters.png\" style=\"width: 90%; display: inline-block;\">\n"
   ]
  },
  {
   "cell_type": "markdown",
   "metadata": {
    "colab_type": "text",
    "id": "mOitrwLCjYIm"
   },
   "source": [
    "A pesar de probar con distintas alternativas en la elección y cantidad de  atributos a utilizar, no logramos identificar a los clusters con ninguna agrupación en particular.\n",
    "Vale aclarar que intentamos agrupar las instancias de distintas maneras, reduciendo la cantidad de clases por cada variable, formando grupos mas representativos (en este caso de las variables income y age-group), normalizando los atriubtos (aunque esto suele ser de utilidad cuando trabajamos con variables continuas mayoritariamente), y no logramos vincular ninguna agrupación con los respectivos clusters obtenidos."
   ]
  },
  {
   "cell_type": "markdown",
   "metadata": {
    "colab_type": "text",
    "id": "VaamIE1ln1wg"
   },
   "source": [
    "### 2.3. KNN\n",
    "___"
   ]
  },
  {
   "cell_type": "markdown",
   "metadata": {
    "colab_type": "text",
    "id": "ATvjYYLrcLbY"
   },
   "source": [
    "Para esta parte utilizamos la clase KNeighborsClassifier de Scikit, y normalizamos el dataset.\n",
    "\n",
    "Se realizó validación cruzada sobre la métrica accuracy para encontrar el valor de K óptimo y los resultados obtenidos fueron los siguientes (se pueden chequear ejecutando la parte d con semilla=3):\n",
    "\n",
    "<table style=\"display: inline-block; margin-left: 48px;\">\n",
    "  <thead>\n",
    "    <tr>\n",
    "      <th><b>K</b></th>\n",
    "      <th><b>Accuracy</b></th>\n",
    "    </tr>\n",
    "  </thead>\n",
    "  <tbody>\n",
    "    <tr>\n",
    "      <td>...</th>\n",
    "      <td>...</th>\n",
    "    </tr>\n",
    "    <tr>\n",
    "      <td>29</th>\n",
    "      <td>41.80%</th>\n",
    "    </tr>\n",
    "    <tr>\n",
    "      <td>31</th>\n",
    "      <td>41.85%</th>\n",
    "    </tr>\n",
    "    <tr>\n",
    "      <td><b>33</b></th>\n",
    "      <td><b>41.92%</b></th>\n",
    "    </tr>\n",
    "    <tr>\n",
    "      <td>35</th>\n",
    "      <td>41.72%</th>\n",
    "    </tr>\n",
    "    <tr>\n",
    "      <td>37</th>\n",
    "      <td>41.60%</th>\n",
    "    </tr>\n",
    "    <tr>\n",
    "      <td>39</th>\n",
    "      <td>41.63%</th>\n",
    "    </tr>\n",
    "    <tr>\n",
    "      <td>...</th>\n",
    "      <td>...</th>\n",
    "    </tr>\n",
    "  </tbody>\n",
    "</table>\n",
    "\n",
    "Luego, entrenamos un clasificador con KNN con el mejor K obtenido en la parte anterior (K=33) dividiendo el dataset, dejando un 90% de las instancias con clase definida para el entrenamiento, y el restante 10% (más las instancias sin clase definida) para la evaluación. Los resultados obtenidos fueron los siguientes:\n",
    "\n",
    "**Utilizando macro average:**\n",
    "<table style=\"display: inline-block; margin-left: 48px;\">\n",
    "  <thead>\n",
    "    <tr>\n",
    "      <th><b>K</b></th>\n",
    "      <th><b>Accuracy</b></th>\n",
    "      <th><b>Precision</b></th>\n",
    "      <th><b>Recall</b></th>\n",
    "      <th><b>F1</b></th>\n",
    "    </tr>\n",
    "  </thead>\n",
    "  <tbody>\n",
    "    <tr>\n",
    "      <td>33</th>\n",
    "      <td>43.07%</th>\n",
    "      <td>21.45%</th>\n",
    "      <td>18.75%</th>\n",
    "      <td>17.20%</th>\n",
    "    </tr>\n",
    "  </tbody>\n",
    "</table>\n",
    "\n",
    "**Utilizando micro average:**\n",
    "<table style=\"display: inline-block; margin-left: 48px;\">\n",
    "  <thead>\n",
    "    <tr>\n",
    "      <th><b>K</b></th>\n",
    "      <th><b>Accuracy</b></th>\n",
    "      <th><b>Precision</b></th>\n",
    "      <th><b>Recall</b></th>\n",
    "      <th><b>F1</b></th>\n",
    "    </tr>\n",
    "  </thead>\n",
    "  <tbody>\n",
    "    <tr>\n",
    "      <td>33</th>\n",
    "      <td>43.07%</th>\n",
    "      <td>43.07%</th>\n",
    "      <td>43.07%</th>\n",
    "      <td>43.07%</th>\n",
    "    </tr>\n",
    "  </tbody>\n",
    "</table>\n",
    "\n",
    "En ambos casos se puede ver que todas las métricas arrojan malos resultados.\n",
    "\n",
    "Esto refuerza la conclusión de que el dataset no es bueno, y habla de la poca relación que existe entre instancias cercanas en términos de cuál es su ideología.\n",
    "\n"
   ]
  },
  {
   "cell_type": "markdown",
   "metadata": {
    "colab_type": "text",
    "id": "nr5nQA7pn7dG"
   },
   "source": [
    "## 3. Parte 2\n",
    "___"
   ]
  },
  {
   "cell_type": "markdown",
   "metadata": {
    "colab_type": "text",
    "id": "9pgpBQbRhlM0"
   },
   "source": [
    "### 3.1. Funcionamiento de la RNN\n",
    "___"
   ]
  },
  {
   "cell_type": "markdown",
   "metadata": {
    "colab_type": "text",
    "id": "D6Vj3yfqhvn_"
   },
   "source": [
    "En esta sección detallaremos el funcionamiento de la red neuronal recurrente implementada.\n",
    "Cada neurona de una red neuronal recurrente, en un instante de tiempo dado, recibe la entrada \"x\" de la capa anterior, así como su propia salida \"y_ant\" del instante de tiempo anterior, y con ello genera su salida \"y\".\n",
    "\n",
    "Además, la RNN implementada es LSTM (Long-Short Term Memory), siendo las mismas una extensión de las redes neuronales recurrentes, que amplían su memoria para aprender de experiencias importantes que han ocurrido mucho tiempo atrás, recordando sus entradas durante un largo período de tiempo. "
   ]
  },
  {
   "cell_type": "markdown",
   "metadata": {
    "colab_type": "text",
    "id": "O8e-ZY6w_Xg1"
   },
   "source": [
    "La estructura de nuestra implementación quedó dividida en 5 grandes módulos:\n",
    "\n",
    "Un módulo principal (main.py) que se encarga de inicializar los valores de nuestra red, así como de tomar el corpus con el cual vamos a trabajar, preprocesarlo, e invocar a los modulos restantes.\n",
    "\n",
    "Otro que se encarga de la creación de la RNN (char_rnn.py) y la definición de las funciones que viven en la misma, invocado desde el main.\n",
    "\n",
    "Luego tenemos un módulo que se encarga del entrenamiento propiamente dicho de nuestra RNN (train.py).\n",
    "\n",
    "Posteriormente, tenemos un módulo encargado de poner a prueba nuestra red entrenada (predict.py), donde se toman caracteres como entrada y se predicen los posteriores.\n",
    "\n",
    "Por ultimo tenemos un módulo utilitario (utils.py) en el cual colocamos las funciones que se invocan desde los distintos módulos, siendo algunas de las mismas la codificación one-hot de los vectores, el armado de batches, etc.\n",
    "\n",
    "\n"
   ]
  },
  {
   "cell_type": "markdown",
   "metadata": {
    "colab_type": "text",
    "id": "n7EndK5BhC13"
   },
   "source": [
    "A continuación analizaremos más a fondo el comportamiento de nuestro código.\n",
    "\n",
    "Nuestro primer paso es tomar el corpus seleccionado, y convertirlo en un arreglo de enteros, mapeando cada caracter distinto con un único valor entero.\n",
    "\n",
    "Definimos nuestra RNN, indicándole a la misma el tamaño de la entrada, siendo el mismo la cantidad de caracteres,  el número de neuronas ocultas por capa, y la cantidad de capas.\n",
    "\n",
    "Tambien definimos el parámetro \"dropout\", que nos permite regular cuál es la probabilidad de mantener los valores de entrada de una neurona en tiempo de entrenamiento.\n",
    "Un problema con las RNN es que pueden llegar a sobreajustar fácilmente a los datos de entrenamiento, reduciendo su capacidad predictiva.\n",
    "Entonces, \"dropout\" oficia como método de regularización, donde las entradas y las conexiones recurrentes a las unidades LSTM se excluyen probabilísticamente de las actualizaciones de activación y peso mientras se entrena una red. \n",
    "Esto tiene el efecto de reducir el sobreajuste y mejorar el rendimiento del modelo.\n",
    "\n",
    "Dentro de la estructura de nuestra RNN tenemos la inicialización de las neuronas ocultas, y la definición de la función de avance.\n",
    "\n",
    "Luego de inicializar la red, pasamos a la etapa de entrenamiento.\n",
    "Aquí podemos definir el número de épocas sobre el cual iteraremos, la tasa de aprendizaje y las funciones para calcular la pérdida y realizar back-propagation.\n",
    "\n",
    "Nuestra red LSTM espera como entrada vectores \"one-hot encoded\", por lo tanto debemos convertir cada número entero en un vector de estas características.\n",
    "\n",
    "Además, debemos trabajar con batches para entrenar a nuestra red, por lo tanto dividimos todo el corpus en batches completos del mismo tamaño, descartando los caracteres sobrantes. \n",
    "Para esto debemos seleccionar el tamaño de cada batch, siendo éste el número de secuencias de caracteres que posee cada batch (cantidad de secuencias de vectores one-hot encoded) multiplicado por el tamaño de cada secuencia.\n",
    "Cada secuencia es del mismo tamaño, y éste hace referencia a la cantidad de caracteres que posee.\n",
    "\n",
    "En cada época, la idea es iterar sobre la cantidad de batches, tomando en cada paso un batch como entrada, y el mismo batch desplazado un lugar hacia la derecha como salida. \n",
    "Por ejemplo, si tenemos como entrada [1,2,3], tomamos como salida [2,3,4].\n",
    "\n",
    "El número de épocas es un hiperparámetro que define el número de veces que el algoritmo de aprendizaje trabaja a través de todo el conjunto de datos de entrenamiento.\n",
    "\n",
    "Luego, tomamos una entrada, y obtenemos la salida correspondiente provista por nuestro modelo.\n",
    "A continuación, calculamos la pérdida y realizamos back-propagation con la salida obtenida, y la salida correspondiente a la entrada original desplazada un lugar a la derecha.\n",
    "\n",
    "\n"
   ]
  },
  {
   "cell_type": "markdown",
   "metadata": {
    "colab_type": "text",
    "id": "5lrtclLgsvZJ"
   },
   "source": [
    "\n",
    "\n",
    "Luego de finalizada la etapa de entrenamiento, podemos poner a prueba nuestro modelo, y hacer predicciones sobre los próximos caracteres.\n",
    "\n",
    "Para ello, invocamos a nuestro módulo de predicción, más precisamente a la función \"sample\", que toma como parámetro una secuencia de caracteres predefinida, y en base a ella la red predice el siguiente caracter.\n",
    "Luego, se toma esa secuencia obtenida, y se le pide nuevamente a la red que obtenga el siguiente caracter, y así sucesivamente, generando todo el texto que queramos.\n",
    "El largo del texto final obtenido lo podemos definir al invocar a nuestra función \"sample\".\n"
   ]
  },
  {
   "cell_type": "markdown",
   "metadata": {
    "colab_type": "text",
    "id": "mIcCN6m9hvz6"
   },
   "source": [
    "### 3.2. Generación de texto \n",
    "___"
   ]
  },
  {
   "cell_type": "markdown",
   "metadata": {
    "colab_type": "text",
    "id": "eJpGj15ih3wM"
   },
   "source": [
    "Para la generación de texto se utilizó la función:  \n",
    "    sample(net, size, prime=' ', top_k=None).   \n",
    "Donde los parámetros representan:\n",
    "* net: La red neuronal recurrente LSTM\n",
    "* size: La cantidad de caracteres a generar\n",
    "* prime: Los caracteres iniciales para la generación de texto\n",
    "* top_k: Este parametro refiere a una funcion de la libreria torch, torch.top(),como las predicciones provienen de una distribución de probabilidad categórica sobre todos los caracteres posibles este parámetro hace más razonable de manejar la generación de texto considerando solo algunos de los caracteres K más probables. Esto evitará que la red nos proporcione caracteres completamente absurdos y le permitirá introducir algo de ruido y aleatoriedad en el texto muestreado.\n",
    "\n",
    "Para el entrenamiento se utilizó un corpus en español que fue extraído de https://www.cs.upc.edu/~nlp/wikicorpus/ y contiene documentos de wikipedia, el mismo contiene 40mil lineas aproximadamente con textos encadenados, iniciando y terminando cada texto de la siguiente forma:\n",
    "\n",
    "    <doc id= title= nonfiltered= processed= dbindex= >\n",
    "    ...\n",
    "    ENDOFARTICLE.\n",
    "    </doc>\n",
    "\n",
    "El corpus se encuentra en el entregable bajo el nombre de \"corpus_espanol.txt\"\n",
    "\n",
    "Para el entrenamiento utilizamos un total de 50 épocas, con un tamaño de batch de 64 y un largo de secuecia de 160 y la red consta de 4 capas.\n",
    "Hicimos tres pruebas distintas en donde variamos el paramero de sampleo top_k, inicialmente le dimos el valor None, luego 5 y por último 10.\n",
    "Se generaron siempre textos de largo 1000 y prime=' <doc '.  \n"
   ]
  },
  {
   "cell_type": "markdown",
   "metadata": {
    "colab_type": "text",
    "id": "4Pfai6wPlda_"
   },
   "source": [
    "#### 3.2.1 Resultado de la generacion de texto con top_k=None\n",
    "___\n",
    "\n",
    "Inicialmente veamos el texto generado en épocas intermedias durante el entrenamiento y por último el texto generado luego de entrenar.\n",
    "\n",
    "Época 1. \n",
    "\n",
    "    <doc \n",
    "    ts PtídRc.c s cgsna eqte orhg nBru ddIiebgnrA  Etrot;cr lJtaEbalayncrt t   ue atsmaoeetsigA oae   einia:he pérer o/ooondaadr.Ieelsnen1-ór ec ueM oceJEe e9rsah nd a7igeeutrldotre9e as=caadl ft dnnotrcaltlildmaiyus taspls k I ro\"ítrglaod  t . 8enqekc eTeneiad,a\n",
    "    e_ lu.oAe7onsmtcjap   ecllnYPé  l úo9oForo iaau\"uttclminon in :li n,2rah\"pLirc  noabve n\"ssoeen.u aors \"sria(a eoe mnii9rlic >cnflimi 9a hylleuea  tA5rdeódsnerIrdass\n",
    "    eaenner osaDLx.eencrms0 apa  tpxlnalaaemnum.osean0odr r4 d -d\n",
    "    o e jlm dDr16dtear nnai  dDó  md tsyo n leairSx ama So1C<a ocats \n",
    "    oay dlsrraM  ia mrea eirrr0l\n",
    "    1e\n",
    "    náapee;ec,gslceu ssg hs)\n",
    "\n",
    "\n",
    "En la epoca 14 es cuando recien logra generar en la salida un formato de documento correcto:\n",
    "\n",
    "    ENCOFARTICLE.\n",
    "    </doc>\n",
    "    <doc id=\"2218617\" pitle=\"Adejande\" nonfiltered=\"999 trocessed=\"95\" dbindex=\"480569\">\n",
    "\n",
    "\n",
    "\n",
    "Época 25\n",
    "\n",
    "    <doc de 2005 asimiró con primeras dificultades en Segostera Boydugá, que una semana se destruido el Cenaderes estaron la aparece lugar transperidal en la más convujida en la UE estado de godornar la excibación papel con el Ajena; Londres Hoguan Yaskoylario Perro, y academia deminitar que se lovado la ambuencia de la clubes de Paus Ricler, y pródodo in se ventió obres suspituros de las destitudes y nacional ocenitle, lograrse con también en los 66 años: por interso de se descalabla, ciudades de enclaval en cualquier mas largo de prooocción que poeitida: Maturina del cruzito de general regresado y ruze y el Donast, en Capegas del Gadriendo de Los comperidoras Firjedí Phaim, Encihatoria Bozfeto, y del alumno, Ola, E Maralhamer. \n",
    "\n",
    "Época 34 \n",
    "\n",
    "    <doc id=\"2004 perternes de la clase cría, que buen al la campaña.\n",
    "\n",
    "    Lespertiendo bescerabiente de caso (la amanceder urbana) y el TSLOR, que en la negociación de creantes los Prumieros el gemal de las instituciones, la destunda de aferta, la primera desarrollación y de los orsenadores en desplazados a Estados Unidos de 1997). Los mulicultores de música como una margen buscada en investigación de año simplemente más amadende, con ruso y un dromo de las maneros existentes que los architerabivas por mrenos horados aprofacionales entre ellos:\n",
    "    Mannotu: Karakauxo, enrrantuga, generalmente siempre que sus desimnaciones actos la elenco del gorder para además de amporec.\n",
    "    Comercia\n",
    "    destruyeron los que se obres este fuentes al escuerto por los legales.\n",
    "    Al también repuesto el circo promiecio de apaytía del Cadizo Mael Baribo y la municipalidad son realizar en el reunionario muy planta, con las tensidades en Arregula, el 17 de septiembre de 1985.\n",
    "\n",
    "Luego de culminado el entrenamiento el texto generado fue:  \n",
    "\n",
    "    <doc id= 1869\" title=\"Estaciones de Transis\" nonfiltered=\"885\" processed=\"342\" dbindex=\"480966\">\n",
    "\n",
    "    Milán Central es un cada junto fágrica Rojrih, o la Tribuna Rivisión Haria de Gearcelo. Formaron el norte de la Primera Santa Isabel Velaco, y conreje al Planka de este país. Edaputamente se bien lijró desde contenido en Kerima (La Constitución) abastó un suelo intérTrome Birds y fúanas sobleson la institución. El cuidrado viene y es la obra cavarán una de su más de la inflanción prohibida por el sedo de Somra: Harky Candara vicieron a José Musical. Las igacionables de sus recasas pasaron a las mismas primas de sus axecan informáticos.\n",
    "\n",
    "    El pesa a Pedro Veras se huesta su unidad de su politía y los bobivos no lanzaron a niños ha el tanco de la tarabura, y hasta función para alcarezo y el todos los más juntobes.\n",
    "\n",
    "    So seguido para electró michos locales cuentas para el principio no su regencia de decisión de lugar o periodismas .\n",
    "\n",
    " \n",
    "\n",
    "\n"
   ]
  },
  {
   "cell_type": "markdown",
   "metadata": {
    "colab_type": "text",
    "id": "U7Cp8M6xwSxi"
   },
   "source": [
    "#### 3.2.2 Resultado de la generacion de texto con top_k=5\n",
    "___\n",
    "\n",
    "Época 1\n",
    "\n",
    "    <doc sa o aseee os   eo ae aa eose  ass soe eaooao aee  eas s eeeos o eoes e ee  sss aa asseaeoo   a soeoea e soa  aesaooo oo oee   ao  ae  ae oss aeaseas se aeoea so sasoeeoss     o eesaa easessaaas  aoooaaeeasee  aa ea   a so  eoaeee    aeeee  s  asesa  so s aae  oa eesaa  aeeaeae  aae  soea eass a  s ae  o as aeose e eae eao  eseaaoo  oa  os e   aoea     e  aoaoe   e  sesse assa aoa  ae  oesooa e a ss o oas   seee   o oe ae a  e oae o a   as   so aeee oaeaa o oo a  eoo  oa a s aes  eeo o   esaeaa aesa ee   e sa  oe s \n",
    "\n",
    "Con k=5 logra generar en la salida un formato de documento correcto en la epoca 7 un poco antes que el resto de las pruebas:\n",
    "\n",
    "    ENDOFARTICLE.\n",
    "    </doc>\n",
    "    <doc id=\"2221191\" title=\"Senaliden Aliguentos do los Encersos\" nonfiltered=\"935\" processed=\"1825\" dbindex=\"490004\">\n",
    "\n",
    "\n",
    "\n",
    "Época 25\n",
    "\n",
    "    <doc de la misma de la región. Alemán está de su canción, el componitle de su archivo, el centro de los cuales particulares al conculso del mundo, el cultivo de una mayoría de sus pueblos de artistas de la parte de las persensas de la medalla divisional. En las antiguas contra las armas de sus propiedades privadas, sino en el castillo en el presidente de Cabimas, la escullura de un estilo del prenso, en el segunda en un partido de la costa compresión de la mayoría de la cantidad era con la primera visto de ataques por la provisiones comunidades de la paso de animillas a los provechos\" como el excensiones extramiordos de elegidos desapuldados de candadas de acedencia. Se punto al encuentro a su expromención en una civa, dos comandantes y el mano del ejercito, en los programas del municipio en las especies de senaria a su cuarto puede ser el penío. Esta experiencia de experimentar en cantidad, en la museo de la actualidad de su musical por el monumento de la matar del sendo artideriscipisto.\n",
    "\n",
    "Época 45\n",
    "\n",
    "    <doc espectaciones del municipio de Buenos Aires, 2008) (2007).\n",
    "\n",
    "    Referencias .\n",
    "    Enlaces externos.\n",
    "    INSEE ;\n",
    "    Elecciones municipales de 2008;\n",
    "\n",
    "    ENDOFARTICLE.\n",
    "    </doc>\n",
    "    <doc id=\"2221531\" title=\"Seconomía del Parque, 1989 - The Texas Congress\" nonfiltered=\"931\" processed=\"900\" dbindex=\"481055\">\n",
    " \n",
    "    Saltandra es un género de plantas fanerógamas con la población y con una especie perteneciente a la familia de las anonáceas. Son nativas de Álea es una población y comuna francesa, situada en la región de Martínez y Canadá.\n",
    "\n",
    "    Especies .\n",
    "\n",
    "    Referencias .\n",
    "\n",
    "    Enlaces externos .\n",
    "\n",
    "    Plant systematics;\n",
    "    PPP-index;\n",
    "    The International Plant Names Index;\n",
    "    Catalogue of Life;\n",
    "\n",
    "    ENDOFARTICLE.\n",
    "    </doc>\n",
    "    <doc id=\"2224591\" title=\"Argentino Motor de Antonio\" nonfiltered=\"505\" processed=\"533\" dbindex=\"480795\">\n",
    "    El Comité Primora en la propia expedición de Archivos se extiende a principios menores de las maniobras en la Universidad de Santa María del Chile.\n",
    "\n",
    "Luego de culminado el entrenamiento el texto generado fue:  \n",
    "\n",
    "    <doc entre 1891. En la primera carretera de San Partido María Monzace y Malanda, sin embargo, es el mismo artista es principalmente los municipios de la Universidad de Archivores.\n",
    "\n",
    "    Esta población portalente en la maniobra es un mes de 2 menos de la actualidad, poder de sus colaboradores. Solar es la del actor: Sur y Misisipí. Los programas escritores, profesionales de casi, los existentes de este equipo excelente la parte del país a la provincia de Balicias, el concepto de elección posición. La presión sobre la primera vez es el extinción de carga de comisión de las propuestas patronímicas de la colonia de la paraguaya del Premio del Congreso del Período Cuatro Coronel de los Años de Aguiar, canciones de la mención. La contextuva actual de la Comisión de Asia. \n",
    "\n",
    "    Este cuarto se extiende a personas del rus principal, expresando la música con el camino, en un conde de las primeras finales de la presidencia de los Entertados de Serrador y de la Unión de la Primera Guerra Ministros de la Revista\n",
    "\n",
    "\n",
    "\n"
   ]
  },
  {
   "cell_type": "markdown",
   "metadata": {
    "colab_type": "text",
    "id": "AHgPaqTcx6Z5"
   },
   "source": [
    "#### 3.2.3 Resultado de la generación de texto con top_k=10\n",
    "___\n",
    "Época 1\n",
    "\n",
    "    <doc ds rdasroro sadir l esarra ia ei aaenndeier li  seioia ne   os ne aao liaaslai  nnnadrasaelrarlalrn r lsi   rdedani   ans oed aili  ds dne enoe ieedn rs  ddldeseiaed r eleraara nlra ed dreno ilie innrano lsdr a oiein lnonodeen reol ee  osrneier s odriaaal aidreo o as sosalro i ree  a nanl  eeae sllea a sod   aisia  ds d le oaadiler el  lan e oeseni s oeneanaioddeeoeeranoani oerlnerasl rseeelleoe i eoseead  ein  e eesaa dalil ale e eoesaano drddeaedn selral dannr nnsld dda aelieosaa en    el ad e  s eso se l ne  d e raeo ida ealsala a  l sald eeeoasn d oie ia eiaair de iaee e oereels ea  rea  aer so dei ler lera en ols  eane in   a deie nir enn  oiie i \n",
    "\n",
    "\n",
    "En la época 10 es cuando recién logra generar en la salida un formato de documento correcto:\n",
    "\n",
    "    ENDOFARTICLE.\n",
    "    </doc>\n",
    "    <doc id=\"2210905\" title=\"Prorcela nogientre Pune\" nonfiltered=\"982\" processed=\"243\" dbindex=\"480437\">\n",
    "\n",
    "\n",
    "Época 25\n",
    "\n",
    "    <doc idantiancher);\n",
    "\n",
    "    Enlaces externos .\n",
    "    Segagía de las conocimientos y ciudades de lucas, similares en la escuela frandesa, política: piso secede editor del camo, sin poder solucional de ellos sobre la explesa inclésil a la siguiente proceso de cuya se exiciarama a su cual tiene tarde sus dos paras superes en la pertenimiento a contener en parte de 1956 y como las algunos recibidos de los estados pera el destructor estabuar admilitado de las potradraminas de la sobre a cualquier proyecto de por su decentranta piptárica a cinemacroporación, para auportabinidades de los minerisos de esto estable de agenda a cada lagor, escudo cuando pobrecipas., se intendaba en su seminada que el resultante al decontes a capacidad al este al tenario privador a los pesígulos extendios de las anencias: son dispirados de la respuesta amanca.\n",
    "\n",
    "Luego de culminado el entrenamiento el texto generado fue:\n",
    "\n",
    "    <doc id=\"2224869\" title=\"Lolos de la condenalidad de Galicias\" nonfiltered=\"738\" processed=\"513\" dbindex=\"480828\">\n",
    " \n",
    "    Abelte es una organización en la francesa al frontera dispobrántetus de aguas de Alihuatá, se resto con el percedimon menus propiamente en el río Misisipí se respatan a un alta carácter, los drineres y de su resultado para la democracía de la punta de los muros. \n",
    "\n",
    "    En 1867 según la criación de composición a la períoda Grefiar, esta trabajo y en el capal puede hacer el aparecer una expuesta del municipio.\n",
    "\n",
    "    Referencias .\n",
    "\n",
    "\n",
    "    Enlaces externos .\n",
    "    Lista de las cuales, particular y publicados por el regimiento Altido, Andrés Canadá (1992-1988)) Tiver Pilberna Panido (2005-1951).\n",
    "    Team The Secuela American Pelició en la crista de Patriciones eleccionales en Mucha Pintar Sambranos desliguarias de Australia, Monumentos de la Escuela de Vo\n",
    "\n"
   ]
  },
  {
   "cell_type": "markdown",
   "metadata": {
    "colab_type": "text",
    "id": "AcufZhKoh30b"
   },
   "source": [
    "### 3.3. Función de pérdida vs. épocas\n",
    "___"
   ]
  },
  {
   "cell_type": "markdown",
   "metadata": {
    "colab_type": "text",
    "id": "hm9cXrrbiH7A"
   },
   "source": [
    "Se dice que un modelo M se sobreajusta a un conjunto de entrenamiento si existe otro modelo M' tal que M comete menos errores que M' en el conjunto de entrenamiento, pero comete más errores en todo el dominio.\n",
    "\n",
    "Una forma de verificar esto en la práctica, es comparar los valores de la función de pérdida (es decir, el error cometido) en el conjunto de entrenamiento contra los valores de la misma en el conjunto de validación a lo largo de las épocas. Se puede decir que M sobreajusta si sucede que dichos valores sobre el conjunto de validación son mayores que los valores sobre el conjunto de entrenamiento.\n",
    "\n",
    "Para verificar si existe sobreajuste en nuestro modelo, realizamos una comparación gráfica entre los valores de la función de pérdida (la cual da una medida del error) sobre el conjunto de entrenamiento y el de validación (con las épocas representadas en el eje de las x). Los parámetros utilizados para esta ejecución fueron:\n",
    "- size = 1000\n",
    "- k = 5\n",
    "- prime = \"<doc \"\n",
    "\n",
    "<img src=\"imagenes/perdida.png\" style=\"width: 50%; display: inline-block;\">\n",
    "\n",
    "Como se puede observar en la gráfica, a partir de la época 4 ya se puede observar que el valor de pérdida sobre el conjunto de validación es menor que el valor sobre el conjunto de entrenamiento. Este comportamiento se mantiene a lo largo de todas las restantes 46 épocas del entrenamiento. Por este motivo, **con este conjunto de validación, no se puede afirmar** que nuestro modelo esté sobreajustando."
   ]
  },
  {
   "cell_type": "markdown",
   "metadata": {
    "colab_type": "text",
    "id": "dLB8XvhtZ7Bd"
   },
   "source": [
    "## 4. Ejecución del programa\n",
    "___\n"
   ]
  },
  {
   "cell_type": "markdown",
   "metadata": {
    "colab_type": "text",
    "id": "gn0IpGLNoTv2"
   },
   "source": [
    "Para ejecutar el programa correspondiente a la **parte 1** de la letra, se debe hacer:\n",
    "\n",
    "_python3 main.py -s 3 -p c_\n",
    "\n",
    "donde:\n",
    "\n",
    "<table>\n",
    "  <tr>\n",
    "    <th style=\"text-align: left\"><b>Parámetro</b></th>\n",
    "    <th style=\"text-align: left\"><b>Descripción</b></th>\n",
    "    <th style=\"text-align: left; width: 80px\"><b>Por defecto</b></th>\n",
    "  </tr>\n",
    "  <tr>\n",
    "    <td><b>s</b></td>\n",
    "    <td style=\"text-align: left\">Semilla utilizada por los paquetes random y numpy (para Scikit).</td>\n",
    "    <td>-</td>\n",
    "  </tr>\n",
    "  <tr>\n",
    "    <td><b>p</b></td>\n",
    "    <td style=\"text-align: left\">Parte del main a ejecutar (a ejecuta la parte a, etc).</td>\n",
    "    <td>-</td>\n",
    "  </tr>\n",
    "  <tr>\n",
    "    <td>d</td>\n",
    "    <td style=\"text-align: left\">Nivel de debug para los prints (0 no imprime nada, 1 solo información, 2 datos para debugging).</td>\n",
    "    <td>2</td>\n",
    "  </tr>\n",
    "  <tr>\n",
    "    <td>g</td>\n",
    "    <td style=\"text-align: left\">1 si se quieren mostrar los graficos, 0 si no.</td>\n",
    "    <td>0</td>\n",
    "  </tr>\n",
    "  <tr>\n",
    "    <td>r</td>\n",
    "    <td style=\"text-align: left\">Corridas de k-means buscando clusters óptimos</td>\n",
    "    <td>500</td>\n",
    "  </tr>\n",
    "  <tr>\n",
    "    <td>l</td>\n",
    "    <td style=\"text-align: left\">Límite de iteraciones por cada corrida de k-means</td>\n",
    "    <td>300</td>\n",
    "  </tr>\n",
    "  <tr>\n",
    "    <td>n</td>\n",
    "    <td style=\"text-align: left\">1 si se quiere trabajar con atributos normalizados, 0 si no</td>\n",
    "    <td>0</td>\n",
    "  </tr>\n",
    "  <tr>\n",
    "    <td>i</td>\n",
    "    <td style=\"text-align: left\">1 si se quiere trabajar con ideologias agrupadas, 0 si no</td>\n",
    "    <td>0</td>\n",
    "  </tr>\n",
    "</table>\n",
    "\n",
    "**Los parámetros s y p son obligatorios.**\n",
    "\n",
    "Para ejecutar el programa correspondiente a la **parte 2** de la letra, se debe hacer:\n",
    "\n",
    "_python3 Parte2/main.py_"
   ]
  },
  {
   "cell_type": "markdown",
   "metadata": {
    "colab_type": "text",
    "id": "vq9y7P9JUMaU"
   },
   "source": [
    "## 5. Conclusión\n",
    "___"
   ]
  },
  {
   "cell_type": "markdown",
   "metadata": {
    "colab_type": "text",
    "id": "yNh-Q7CL4gwx"
   },
   "source": [
    "Como conclusiones para la primera parte se puede decir que:\n",
    "\n",
    "\n",
    "- El dataset obtenido parece no generalizar de forma correcta la clasificación ideológica de las instancias en función de sus atributos. Por lo tanto, se podría concluir que el dataset no es muy útil.\n",
    "- La aplicación de KNN sobre el conjunto de datos y los bajos resultados obtenidos en términos de performance refuerzan la idea anterior de que el dataset no es bueno. Esto también se ve reforzado por el hecho de que a pesar de utilizar múltiples formas de reducir la dimensionalidad para visualizar los datos gráficamente, ninguno de los métodos arrojó resultados positivos en términos del nivel de clustering de las instancias.\n",
    "\n",
    "\n",
    "Como conclusiones para la segunda parte:\n",
    "\n",
    "- Como conclusión de los ejemplos de texto generado, podemos ver como en los tres casos rápidamente la red logra generar el formato de los textos.\n",
    "  Cuando no agregamos aleatoriedad a la generación de string de igual forma aprende correctamente algunas reglas gramaticales(? asi como el formato de los textos, por ejemplo en la época 34 ya se puede ver como abre y cierra paréntesis correctamente y además aproximadamente luego de la mitad del entrenamiento utiliza bien las mayúsculas seguidas de los puntos.\n",
    "  De todas formas el resultado del texto generado luego del entrenamiento no tiene tanta coherencia como en las otras dos pruebas ya que por ejemplo hay una alta cantidad de palabras inexistentes.\n",
    "  Luego se podríamos decir que el resultado final con k=5 es el mejor , se obtienen más cantidad de palabras reales y pareciera tener más coherencia.\n",
    "  Creemos que el resultado final se podría mejorar aumentando la cantidad de épocas.\n",
    "\n",
    "- Como mejora en la parte 3.2 creemos que podriamos probar el experimento modificando otros parametros como la cantidad de batches , el largo de las segucuencias o la cantidad de capas de la red neuronal. \n",
    "  Consideramos que nos faltaba conocimiento para poder entender el impacto de las modificaciones mas aun en el caso de cantidad de capas de la red neuronal.\n",
    "\n",
    "- Podría resultar interesante evaluar el funcionamiento del modelo sobre un corpus de tablaturas de piezas musicales. Sería interesante ver si los resultados finales de los textos generados efectivamente producirían piezas musicales buenas (desde el punto de vista de riqueza musical), teniendo en cuenta que la información de entrada sería solamente texto (a pesar de que, en realidad, dicho texto en el fondo sí codifique música).\n"
   ]
  }
 ],
 "metadata": {
  "colab": {
   "collapsed_sections": [
    "7Zt10x3OokiT",
    "Ixue4l-1nx_H"
   ],
   "name": "Prueba-tarea-4.ipynb",
   "provenance": []
  },
  "kernelspec": {
   "display_name": "Python 3",
   "language": "python",
   "name": "python3"
  },
  "language_info": {
   "codemirror_mode": {
    "name": "ipython",
    "version": 3
   },
   "file_extension": ".py",
   "mimetype": "text/x-python",
   "name": "python",
   "nbconvert_exporter": "python",
   "pygments_lexer": "ipython3",
   "version": "3.6.8"
  }
 },
 "nbformat": 4,
 "nbformat_minor": 1
}
